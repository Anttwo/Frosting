{
 "cells": [
  {
   "cell_type": "markdown",
   "metadata": {},
   "source": [
    "<center>\n",
    "        <h1>\n",
    "                Gaussian Frosting: <br>\n",
    "                Editable Complex Radiance Fields with Real-Time Rendering\n",
    "        </h1>\n",
    "        <font size=\"5\">\n",
    "                ECCV 2024 - Oral<br>\n",
    "        </font>\n",
    "        Antoine Guédon and Vincent Lepetit\n",
    "</center>"
   ]
  },
  {
   "cell_type": "code",
   "execution_count": null,
   "metadata": {},
   "outputs": [],
   "source": [
    "import os\n",
    "import matplotlib.pyplot as plt\n",
    "import numpy as np\n",
    "import torch\n",
    "from frosting_scene.gs_model import GaussianSplattingWrapper\n",
    "from frosting_scene.frosting_model import load_frosting_model\n",
    "\n",
    "torch.cuda.set_device('cuda:0')\n",
    "device = torch.device(torch.cuda.current_device())"
   ]
  },
  {
   "cell_type": "code",
   "execution_count": null,
   "metadata": {},
   "outputs": [],
   "source": [
    "# Path to your COLMAP dataset. You can change the path to the dataset you want to use.\n",
    "source_path= './data/your_colmap_scene/'\n",
    "if source_path[-1] != '/':\n",
    "    source_path += '/'\n",
    "your_scene_name = source_path.split('/')[-2]\n",
    "\n",
    "# Path to the vanilla 3DGS output directory. You can change the path to the directory you want to use.\n",
    "gs_output_dir = f'./output/vanilla_gs/{your_scene_name}/'\n",
    "\n",
    "# Path to the Frosting model. You can change the path to the model you want to use.\n",
    "frosting_dir = f'./output/refined_frosting/{your_scene_name}'\n",
    "frosting_path = os.path.join(frosting_dir, os.listdir(frosting_dir)[0], '15000.pt')\n",
    "\n",
    "print(\"Path to the COLMAP dataset: \", source_path, sep='\\n')\n",
    "print(\"Path to the vanilla 3DGS output directory: \", gs_output_dir, sep='\\n')\n",
    "print(\"Path to the Frosting model: \", frosting_path, sep='\\n')"
   ]
  },
  {
   "cell_type": "markdown",
   "metadata": {},
   "source": [
    "## Load corresponding Vanilla 3DGS Model"
   ]
  },
  {
   "cell_type": "code",
   "execution_count": null,
   "metadata": {},
   "outputs": [],
   "source": [
    "eval_split = False\n",
    "load_gt_images = True\n",
    "white_background = False\n",
    "bg_color = [1., 1., 1.] if white_background else [0., 0., 0.]\n",
    "\n",
    "gs_model = GaussianSplattingWrapper(\n",
    "    source_path=source_path,\n",
    "    output_path=gs_output_dir if gs_output_dir.endswith(os.sep) else gs_output_dir + os.sep,\n",
    "    iteration_to_load=7000,\n",
    "    load_gt_images=load_gt_images,\n",
    "    eval_split=eval_split,\n",
    "    eval_split_interval=8,\n",
    "    background=bg_color,\n",
    "    white_background=white_background,\n",
    "    remove_camera_indices=[],\n",
    ")"
   ]
  },
  {
   "cell_type": "code",
   "execution_count": null,
   "metadata": {},
   "outputs": [],
   "source": [
    "cam_idx = np.random.randint(0, len(gs_model.training_cameras))\n",
    "\n",
    "print(f'Rendering image for camera index: {cam_idx}')\n",
    "with torch.no_grad():\n",
    "    # Render image with the Gaussian Splatting model\n",
    "    rgb_img = gs_model.render_image(camera_indices=cam_idx).cpu()\n",
    "    \n",
    "    # Get GT image if available\n",
    "    if load_gt_images:\n",
    "        gt_img = gs_model.get_gt_image(cam_idx).cpu()\n",
    "    else:\n",
    "        gt_img = torch.zeros_like(rgb_img)\n",
    "\n",
    "figsize = 30\n",
    "height, width = rgb_img.shape[0], rgb_img.shape[1]\n",
    "plt.figure(figsize=(figsize, figsize * height / width / 2))\n",
    "\n",
    "plt.subplot(1, 2, 1)\n",
    "plt.imshow(gt_img)\n",
    "plt.title(f'Ground Truth Image {cam_idx}')\n",
    "plt.axis('off')\n",
    "\n",
    "plt.subplot(1, 2, 2)\n",
    "plt.imshow(rgb_img)\n",
    "plt.title(f'Rendered Image {cam_idx}')\n",
    "plt.axis('off')\n",
    "\n",
    "plt.show()"
   ]
  },
  {
   "cell_type": "markdown",
   "metadata": {},
   "source": [
    "## Load Frosting model"
   ]
  },
  {
   "cell_type": "code",
   "execution_count": null,
   "metadata": {},
   "outputs": [],
   "source": [
    "frosting = load_frosting_model(frosting_path, nerfmodel=gs_model)\n",
    "\n",
    "print(f\"Number of vertices in base mesh: {len(frosting._shell_base_verts)}\")\n",
    "print(f\"Number of faces in base mesh: {len(frosting._shell_base_faces)}\")\n",
    "print(f\"Number of Gaussians in the frosting layer: {len(frosting._bary_coords)}\")\n",
    "if frosting.use_background_gaussians:\n",
    "    print(f\"Number of Gaussians in the background: {len(frosting._bg_points)}\")"
   ]
  },
  {
   "cell_type": "markdown",
   "metadata": {},
   "source": [
    "## Render"
   ]
  },
  {
   "cell_type": "code",
   "execution_count": null,
   "metadata": {},
   "outputs": [],
   "source": [
    "# If your model was trained with occlusion culling, set use_occlusion_culling to True.\n",
    "# Otherwise, set it to False.\n",
    "\n",
    "# use_occlusion_culling = True\n",
    "use_occlusion_culling = False"
   ]
  },
  {
   "cell_type": "code",
   "execution_count": null,
   "metadata": {},
   "outputs": [],
   "source": [
    "cam_idx = np.random.randint(0, len(gs_model.training_cameras))\n",
    "\n",
    "print(f\"Rendering image {cam_idx}...\")\n",
    "with torch.no_grad():\n",
    "    # Render RGB image\n",
    "    rgb_img = frosting.render_image_gaussian_rasterizer(\n",
    "        camera_indices=cam_idx,\n",
    "        compute_color_in_rasterizer=True,\n",
    "        use_occlusion_culling=use_occlusion_culling,\n",
    "        bg_color=torch.tensor(bg_color, device=device),\n",
    "    ).clamp(0, 1)\n",
    "    \n",
    "    # Get GT image for comparison\n",
    "    if load_gt_images:\n",
    "        gt_img = gs_model.get_gt_image(cam_idx).cpu()\n",
    "    else:\n",
    "        gt_img = torch.zeros_like(rgb_img)\n",
    "    \n",
    "figsize = 30\n",
    "height, width = rgb_img.shape[0], rgb_img.shape[1]\n",
    "n_rows, n_cols = 1, 2\n",
    "if height > width:\n",
    "    figsize = figsize * width / height\n",
    "plt.figure(figsize=(figsize, figsize * height / width / n_cols * n_rows))\n",
    "\n",
    "plt.subplot(n_rows, n_cols, 1)\n",
    "plt.imshow(gt_img.cpu())\n",
    "plt.title(f'Ground Truth Image {cam_idx}')\n",
    "plt.axis('off')\n",
    "\n",
    "plt.subplot(n_rows, n_cols, 2)\n",
    "plt.imshow(rgb_img.cpu())\n",
    "plt.title(f'Rendered Image {cam_idx}')\n",
    "plt.axis('off')\n",
    "\n",
    "plt.show()"
   ]
  }
 ],
 "metadata": {
  "kernelspec": {
   "display_name": "frosting_test",
   "language": "python",
   "name": "python3"
  },
  "language_info": {
   "codemirror_mode": {
    "name": "ipython",
    "version": 3
   },
   "file_extension": ".py",
   "mimetype": "text/x-python",
   "name": "python",
   "nbconvert_exporter": "python",
   "pygments_lexer": "ipython3",
   "version": "3.9.18"
  }
 },
 "nbformat": 4,
 "nbformat_minor": 2
}
